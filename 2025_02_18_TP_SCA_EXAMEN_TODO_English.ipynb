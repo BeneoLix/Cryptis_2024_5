{
 "cells": [
  {
   "cell_type": "markdown",
   "metadata": {},
   "source": [
    "---------\n",
    "# 2025 \n",
    "\n",
    "# Limoges University\n",
    "\n",
    "## CRYPTIS MASTER 2 - XLIM  - TP Exam\n",
    "### Implementation and smart cards -- Side Channel Analysis\n",
    "-------\n",
    "\n",
    "Date: Tuesday 18th february 2025\n",
    "\n",
    "DURATION : 3H\n",
    "----\n",
    "\n",
    "----\n",
    "# SUBJECT \n",
    "\n",
    "## Material for use for this exam\n",
    "\n",
    "The notebook ready to use (and to be used) is there: https://github.com/BeneoLix/Cryptis_2024_5\n",
    "\n",
    "* filename = 2025_02_18_TP_SCA_EXAMEN_TODO_English\n",
    "\n",
    "--> SO THIS FILE !\n",
    "\n",
    "And the traces are there: https://github.com/BeneoLix/SideSCA-Traces-Public\n",
    "\n",
    "* file with traces for exam part 1: filename = traces_examen_part_1.ets\n",
    "* file with traces for exam part 2: filename = traces_examen_part_2.ets\n",
    "* file with traces for exam part 3: filename = traces_examen_part_3.ets\n",
    "\n",
    "## EXAM RULES\n",
    "- You can use all the files and work done during the TP sessions: notebooks, slides\n",
    "- You can use your personal laptop if you want\n",
    "- You can use internet except communicaion tools with others abd any Intelligence artificial tool\n",
    "- IT IS FORBIDDEN to discuss with others and to exchange information between you on the solutions\n",
    "    - if you exchange notebooks or solutions or files between you and that I can observe that you will have penalty on the final note.\n",
    "\n",
    "\n",
    "### 0. Clone / Download files into your Jupyter Lab or Notebook environnement in order to execute / use it\n",
    "... as we made during our TP sessions.\n",
    "\n",
    "\n",
    "### 1. Part I: first traces set \"traces_examen_part_1.ets\"\n",
    "* Perform Simple Power Analysis on one and/or several traces (SPA) to recognize the cryptographic algorithm in the traces\n",
    "* Explain how you recognize it \n",
    "* Explain what kind of operations you can identify and where in the traces\n",
    "* Is the trace containing the whole algorithm computation ? Yes ? No ? All or how many round?\n",
    "* Recover the key using CPA\n",
    "* Check you have recovered the correct key\n",
    "\n",
    "### 2. Part II: second traces set \"traces_examen_part_2.ets\"\n",
    "* Perform Simple Power Analysis on one and/or several traces (SPA) to recognize the cryptographic algorithm in the traces \n",
    "* Is it different from part I traces set ? If yes how ?\n",
    "* Process the traces if needed and recover the key using CPA\n",
    "* Check you have recovered the correct key\n",
    "\n",
    "### 3. Part III: third traces set \"traces_examen_part_3.ets\"\n",
    "* Perform Simple Power Analysis on one and/or several traces (SPA) and try to recognize the cryptographic algorithm in the traces\n",
    "* In order to use a secret algorithm a groupe of persons has decided to use AES but with replacing the standard AES SBOX with a proprietary specific SBOX ( see later in the nbk ) that we recovered using software reverse engineering.\n",
    "* We also obtained the side-channel traces of this modified AES: traces_examen_part_3.ets\n",
    "* Recover the key using CPA with your own selection fonction\n",
    "\n",
    "### The tree parts can be done in the order you want but it might be preferable to do from 1 to 3\n",
    "### An detailed analysis and explanation on what you do is expected and a conclusion for each part.\n",
    "\n"
   ]
  },
  {
   "cell_type": "markdown",
   "metadata": {},
   "source": [
    "------\n",
    "\n",
    "### Your work must be done in this notebook:\n",
    "- Use the cells in markdown mode to put your text and explanations\n",
    "- Use the cells in code mode to do your tests\n",
    "- Save the notebook with images\n",
    "- I will replay the notebook to verify when correcting\n",
    "\n",
    "### Good luck !"
   ]
  },
  {
   "cell_type": "markdown",
   "metadata": {},
   "source": [
    "-----------\n",
    "# * __NOM / NAME:__ PUT THERE\n",
    "# * __PRENOM / FIRSTNAME :__ PUT THERE\n",
    "--------"
   ]
  },
  {
   "cell_type": "markdown",
   "metadata": {},
   "source": [
    "# PARTIE 1 DE L'EXAMEN / PART 1 OF EXAM"
   ]
  },
  {
   "cell_type": "code",
   "execution_count": 2,
   "metadata": {},
   "outputs": [],
   "source": [
    "import estraces\n",
    "import scared"
   ]
  },
  {
   "cell_type": "code",
   "execution_count": 3,
   "metadata": {},
   "outputs": [],
   "source": [
    "import numpy as np"
   ]
  },
  {
   "cell_type": "code",
   "execution_count": 4,
   "metadata": {},
   "outputs": [
    {
     "name": "stdout",
     "output_type": "stream",
     "text": [
      "Trace Header Set:\n",
      "Name.............: ETS Format THS\n",
      "Reader...........: ETS format reader of file ../SideSCA-Traces-Public/traces_examen_part_1.ets with 100 traces.\n",
      "ciphertext.......: uint8\n",
      "plaintext........: uint8\n",
      "\n"
     ]
    }
   ],
   "source": [
    "ths = estraces.read_ths_from_ets_file(\"../SideSCA-Traces-Public/traces_examen_part_1.ets\") \n",
    "print(ths)"
   ]
  },
  {
   "cell_type": "code",
   "execution_count": 5,
   "metadata": {},
   "outputs": [
    {
     "data": {
      "text/plain": [
       "['ciphertext', 'plaintext']"
      ]
     },
     "execution_count": 5,
     "metadata": {},
     "output_type": "execute_result"
    }
   ],
   "source": [
    "ths.metadata_tags"
   ]
  },
  {
   "cell_type": "code",
   "execution_count": 6,
   "metadata": {},
   "outputs": [],
   "source": [
    "import matplotlib.pyplot as plt"
   ]
  },
  {
   "cell_type": "code",
   "execution_count": 7,
   "metadata": {},
   "outputs": [],
   "source": [
    "plt.rcParams['figure.figsize']=(16,4)"
   ]
  },
  {
   "cell_type": "markdown",
   "metadata": {},
   "source": [
    "### Plot the trace(s)\n",
    "### Observe the trace(s)\n",
    "### What kind of cryptographic operation does it seem to be?\n",
    "### Can you recover the key ?\n",
    "### Check the key you have recovered is the right one\n",
    "### How many traces do you need at minima to recover the key? \n",
    "### Conclude\n",
    "\n"
   ]
  },
  {
   "cell_type": "markdown",
   "metadata": {},
   "source": [
    "------------\n",
    "# PARTIE 2 DE L'EXAMEN / PART 2 OF EXAM"
   ]
  },
  {
   "cell_type": "code",
   "execution_count": 8,
   "metadata": {},
   "outputs": [
    {
     "name": "stdout",
     "output_type": "stream",
     "text": [
      "Trace Header Set:\n",
      "Name.............: ETS Format THS\n",
      "Reader...........: ETS format reader of file ../SideSCA-Traces-Public/traces_examen_part_2.ets with 100 traces.\n",
      "ciphertext.......: uint8\n",
      "plaintext........: uint8\n",
      "\n"
     ]
    }
   ],
   "source": [
    "ths = estraces.read_ths_from_ets_file(\"../SideSCA-Traces-Public/traces_examen_part_2.ets\") \n",
    "print(ths)"
   ]
  },
  {
   "cell_type": "code",
   "execution_count": 9,
   "metadata": {},
   "outputs": [
    {
     "data": {
      "text/plain": [
       "['ciphertext', 'plaintext']"
      ]
     },
     "execution_count": 9,
     "metadata": {},
     "output_type": "execute_result"
    }
   ],
   "source": [
    "ths.metadata_tags"
   ]
  },
  {
   "cell_type": "markdown",
   "metadata": {},
   "source": [
    "### Plot the trace(s)\n",
    "### Observe the trace(s)\n",
    "### What kind of cryptographic operation does it seem to be?\n",
    "### Can you recover the key ?\n",
    "### If you cannot recover the key may the traces need to be processed before running again the attack?\n",
    "### Check the key you have recovered is the right one\n",
    "\n",
    "### Conclude\n"
   ]
  },
  {
   "cell_type": "markdown",
   "metadata": {},
   "source": [
    "------------\n",
    "# PARTIE 3 DE L'EXAMEN / PART 3 OF EXAM"
   ]
  },
  {
   "cell_type": "code",
   "execution_count": 10,
   "metadata": {},
   "outputs": [
    {
     "name": "stdout",
     "output_type": "stream",
     "text": [
      "Trace Header Set:\n",
      "Name.............: ETS Format THS\n",
      "Reader...........: ETS format reader of file ../SideSCA-Traces-Public/traces_examen_part_3.ets with 100 traces.\n",
      "ciphertext.......: uint8\n",
      "plaintext........: uint8\n",
      "\n"
     ]
    }
   ],
   "source": [
    "ths = estraces.read_ths_from_ets_file(\"../SideSCA-Traces-Public/traces_examen_part_3.ets\") \n",
    "print(ths)"
   ]
  },
  {
   "cell_type": "code",
   "execution_count": 11,
   "metadata": {},
   "outputs": [
    {
     "data": {
      "text/plain": [
       "['ciphertext', 'plaintext']"
      ]
     },
     "execution_count": 11,
     "metadata": {},
     "output_type": "execute_result"
    }
   ],
   "source": [
    "ths.metadata_tags"
   ]
  },
  {
   "cell_type": "markdown",
   "metadata": {},
   "source": [
    "`SBOX = _np.array([\n",
    "  47, 165,  90,  55, 208,  72,  78, 214, 181, 6, 62, 240, 176,\n",
    "  9, 223,   5, 243,  74,  22,  61, 111,  83, 231,   1,  96,  65,\n",
    "  191, 143,  31, 108, 213, 189, 198, 234, 215, 183,  50, 140, 173,\n",
    "  204, 118, 197, 184, 144,  51, 112, 201, 178, 128, 195,  58, 167,\n",
    "  224,  49, 188,   7, 192, 174, 163,  86, 159,  45, 219, 221,  15,\n",
    "  141,  36, 255,  34, 119, 239,  70,  75, 169, 110, 109, 114,  13,\n",
    "  138,  11, 115, 194, 162,  88, 186, 107, 244,  80,  29, 225,  64,\n",
    "  43, 131,  52, 228, 135, 171, 132, 105, 166, 230, 148, 146, 161,\n",
    "  216,  46, 200, 123, 245, 242, 238, 229, 193,  63, 182, 145, 246,\n",
    "  101, 209, 199,  67, 103,  91, 152, 196, 156, 220,   2, 177,  57,\n",
    "  203, 104,  87, 126,  10,  66, 248, 137,  39,  97,  33,  71, 139,\n",
    "  211, 133, 122, 233,  92, 157,  73,  85, 124, 153, 218, 127,  20,\n",
    "  79,  41, 120, 235, 206,  60, 202,  98,  24, 207, 125, 106, 190,\n",
    "  37, 160,   0, 226,   4,  21, 158,  38,   3,  59, 205,  77, 251,\n",
    "  82, 179,  89, 252,  68,  93, 175,  44, 150, 172,  18,  28, 180,\n",
    "  48, 164,  40, 168, 117, 170, 129,  23, 232, 155,  53, 121, 247,\n",
    "  14, 185, 142,  25, 147, 102, 116, 134,  42, 136,  35,  30, 236,\n",
    "  254,  81, 222,  54,  32,  69, 212, 187, 217,  99, 249, 151,  95,\n",
    "  253, 154,  26, 100, 227,  17,  94,  76,  16,  12, 130,  19,  27,\n",
    "  250,   8,  84, 241, 149, 210, 237,  56, 113], dtype=_np.uint8)`\n"
   ]
  },
  {
   "cell_type": "markdown",
   "metadata": {},
   "source": [
    "### In order to use a secret algorithm a groupe of persons has decided to use AES but with replacing the standard AES SBOX with a proprietary specific SBOX ( see later in the nbk ) that we recovered using software reverse engineering.\n",
    "\n",
    "### We also obtained the side-channel traces of this dummy SBOX operation in the first round the execution of this algorithm: traces_examen_part_3.ets"
   ]
  },
  {
   "cell_type": "markdown",
   "metadata": {},
   "source": [
    "### Plot the trace(s)\n",
    "### Observe the trace(s)\n",
    "### Implement your own selection function using this SBOX and run CPA\n",
    "### Can you recover the key ?\n",
    "### Plot the attack result, if you observe Peaks with much higher contrast than the others you might have recover the key, what is the key value you recovered?\n",
    "\n",
    "## OPTIONEL: \n",
    "### using an AES implementation (Python or C) that you can get from internet replace the SBOX with the one reversed and verify the computation is correct with the key you recovered and couple (plain, cipher) from the ths (ets file)\n",
    "\n",
    "### Conclude\n"
   ]
  },
  {
   "cell_type": "code",
   "execution_count": null,
   "metadata": {},
   "outputs": [],
   "source": []
  }
 ],
 "metadata": {
  "kernelspec": {
   "display_name": "Python 3",
   "language": "python",
   "name": "python3"
  },
  "language_info": {
   "codemirror_mode": {
    "name": "ipython",
    "version": 3
   },
   "file_extension": ".py",
   "mimetype": "text/x-python",
   "name": "python",
   "nbconvert_exporter": "python",
   "pygments_lexer": "ipython3",
   "version": "3.7.9"
  }
 },
 "nbformat": 4,
 "nbformat_minor": 4
}
