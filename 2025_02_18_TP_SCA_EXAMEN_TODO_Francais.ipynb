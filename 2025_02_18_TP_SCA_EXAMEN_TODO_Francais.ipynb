{
 "cells": [
  {
   "cell_type": "markdown",
   "metadata": {},
   "source": [
    "---------\n",
    "# 2025 \n",
    "\n",
    "# Université de Limoges\n",
    "## CRYPTIS MASTER 2 - XLIM  - Examen de Travaux Pratiques \n",
    "### Implementation et Cartes à puces -- Side Channel Analysis\n",
    "-------\n",
    "\n",
    "Date: Mardi 18 février 2025\n",
    "\n",
    "DUREE : 3H\n",
    "----\n",
    "\n",
    "----\n",
    "# SUJET \n",
    "\n",
    "## Matériel à utiliser pour cet examen de TP\n",
    "\n",
    "Le notebook prêt à être utilisé se trouve ici: https://github.com/BeneoLix/Cryptis_2024_5\n",
    "\n",
    "* fichier = 2025_02_18_TP_SCA_EXAMEN_TODO_Francais\n",
    "\n",
    "--> Donc ce même notebook la !\n",
    "\n",
    "Et les traces à utiliser ici: https://github.com/BeneoLix/SideSCA-Traces-Public\n",
    "\n",
    "* fichier traces pour partie 1 de l'examen = traces_examen_part_1.ets\n",
    "* fichier traces pour partie 2 de l'examen = traces_examen_part_2.ets\n",
    "* fichier traces pour partie 3 de l'examen = traces_examen_part_3.ets\n",
    "\n",
    "## REGLES de l'examen\n",
    "\n",
    "- Vous avez le droit d'utiliser tout ce qui a été fait en TP : notebooks, le cours (slides).\n",
    "- Vous avez le droit d'utiliser votre ordinateur personnel.\n",
    "- Vous avez le droit d'utiliser internet : à l'exclusion de tout outil de communication avec autrui, et de tout outil d'intelligence artificielle.\n",
    "- Interdiction de communiquer et d'échanger entre vous.\n",
    "    - Si vous echangez des notebooks ou autres solutions par mail et que je detecte des choses similaires cela sera sanctionné / pénalisé pour les deux (ou plus) personnes.\n",
    "\n",
    "### 0. Veuillez cloner ou télécharger ces fichiers et les mettre dans votre environnement Jupyter Lab (ou Jupyter notebook) pour les executer / utiliser\n",
    "... de la même manière que ce que nous avons fait pendant les TPs.\n",
    "\n",
    "\n",
    "### 1. Partie 1: premier jeux de traces \"traces_examen_part_1.ets\"\n",
    "* faite une analyse simple (de type SPA) des traces afin de reconnaitre l'algorithme attaqué ... \n",
    "* Expliquez à quoi on le reconnait\n",
    "* Expliquez quelles opérations on peut reconnaitre dans la trace et à quel endroit\n",
    "* Algo entier ? Oui ? Non ? combien de rondes?\n",
    "* Retrouvez la clef en utilisant la CPA\n",
    "* Vérifiez que vous avez bien retrouvé la bonne clef\n",
    "\n",
    "### 2. Partie 2: second jeux de traces \"traces_examen_part_2.ets\"\n",
    "* faite une analyse simple (de type SPA) des traces afin de reconnaitre l'algorithme attaqué ... \n",
    "* Est ce différent du jeu de traces de la partie 1? Si oui en quoi ?\n",
    "* Processez les traces si necessaire et retrouvez la clef en utilisant la CPA\n",
    "* Vérifiez que vous avez bien retrouvé la bonne clef\n",
    "\n",
    "### 3. Partie 3: troisième jeux de traces \"traces_examen_part_3.ets\"\n",
    "* Faite une analyse simple (de type SPA) des traces afin de tenter de reconnaitre l'algorithme attaqué ... \n",
    "* Afin d'utiliser un algorithme secret un groupe d'individus a décidé d'utiliser l'AES mais en remplacant la SBOX classique par la SBOX ci dessous qui a été obtenue par du reverse engineering.\n",
    "* Et on a réussir à obtenir les traces side-channel de 100 executions de cet algorithme sur un composant hardware.\n",
    "* Retrouvez la clef en utilisant la CPA et votre propre fonction de selection\n",
    "* A partir d'un code d'AES modifier la SBOX par celle ci et vérifier que la clef retrouvée est la bonne (optionel)\n",
    "\n",
    "### Pour l'éxécutions des taches requises l'étudiant est libre de réaliser ces analyses dans l'ordre qu'il souhaite mais doit présenter une analyse construite et logique.\n",
    "\n",
    "### Des explications et des conclusions détaillées sont attendus. \n",
    "\n"
   ]
  },
  {
   "cell_type": "markdown",
   "metadata": {},
   "source": [
    "------\n",
    "\n",
    "### Votre travail sera réalisé dans ce notebook:\n",
    "- Utilisez les cellules en mode markdown pour mettre votre texte, vos explications\n",
    "- Utiliser les cellules de code pour faire vos tests\n",
    "- Vous pouvez sauver le notebook avec les images\n",
    "- Je rejouerai le notebook de toue facon lors de la correction\n",
    "\n",
    "### Bon examen de TP !"
   ]
  },
  {
   "cell_type": "markdown",
   "metadata": {},
   "source": [
    "-----------\n",
    "# * __NOM / NAME:__ PUT THERE\n",
    "# * __PRENOM / FIRSTNAME :__ PUT THERE\n",
    "--------"
   ]
  },
  {
   "cell_type": "markdown",
   "metadata": {},
   "source": [
    "# PARTIE 1 DE L'EXAMEN / PART 1 OF EXAM"
   ]
  },
  {
   "cell_type": "code",
   "execution_count": 1,
   "metadata": {},
   "outputs": [],
   "source": [
    "import estraces\n",
    "import scared"
   ]
  },
  {
   "cell_type": "code",
   "execution_count": 2,
   "metadata": {},
   "outputs": [],
   "source": [
    "import numpy as np"
   ]
  },
  {
   "cell_type": "code",
   "execution_count": 3,
   "metadata": {},
   "outputs": [
    {
     "name": "stdout",
     "output_type": "stream",
     "text": [
      "Trace Header Set:\n",
      "Name.............: ETS Format THS\n",
      "Reader...........: ETS format reader of file ../SideSCA-Traces-Public/traces_examen_part_1.ets with 100 traces.\n",
      "ciphertext.......: uint8\n",
      "plaintext........: uint8\n",
      "\n"
     ]
    }
   ],
   "source": [
    "ths = estraces.read_ths_from_ets_file(\"../SideSCA-Traces-Public/traces_examen_part_1.ets\") \n",
    "print(ths)"
   ]
  },
  {
   "cell_type": "code",
   "execution_count": 4,
   "metadata": {},
   "outputs": [
    {
     "data": {
      "text/plain": [
       "['ciphertext', 'plaintext']"
      ]
     },
     "execution_count": 4,
     "metadata": {},
     "output_type": "execute_result"
    }
   ],
   "source": [
    "ths.metadata_tags"
   ]
  },
  {
   "cell_type": "code",
   "execution_count": 5,
   "metadata": {},
   "outputs": [],
   "source": [
    "import matplotlib.pyplot as plt"
   ]
  },
  {
   "cell_type": "code",
   "execution_count": 6,
   "metadata": {},
   "outputs": [],
   "source": [
    "plt.rcParams['figure.figsize']=(16,4)"
   ]
  },
  {
   "cell_type": "markdown",
   "metadata": {},
   "source": [
    "### Plot the trace(s)\n",
    "### Observe the trace(s)\n",
    "### What kind of cryptographic operation does it seem to be?\n",
    "### Can you recover the key ?\n",
    "### Check the key you have recovered is the right one\n",
    "### How many traces do you need at minima to recover the key? \n",
    "### Conclude\n",
    "\n"
   ]
  },
  {
   "cell_type": "markdown",
   "metadata": {},
   "source": [
    "------------\n",
    "# PARTIE 2 DE L'EXAMEN / PART 2 OF EXAM"
   ]
  },
  {
   "cell_type": "code",
   "execution_count": 7,
   "metadata": {},
   "outputs": [
    {
     "name": "stdout",
     "output_type": "stream",
     "text": [
      "Trace Header Set:\n",
      "Name.............: ETS Format THS\n",
      "Reader...........: ETS format reader of file ../SideSCA-Traces-Public/traces_examen_part_2.ets with 100 traces.\n",
      "ciphertext.......: uint8\n",
      "plaintext........: uint8\n",
      "\n"
     ]
    }
   ],
   "source": [
    "ths = estraces.read_ths_from_ets_file(\"../SideSCA-Traces-Public/traces_examen_part_2.ets\") \n",
    "print(ths)"
   ]
  },
  {
   "cell_type": "code",
   "execution_count": 8,
   "metadata": {},
   "outputs": [
    {
     "data": {
      "text/plain": [
       "['ciphertext', 'plaintext']"
      ]
     },
     "execution_count": 8,
     "metadata": {},
     "output_type": "execute_result"
    }
   ],
   "source": [
    "ths.metadata_tags"
   ]
  },
  {
   "cell_type": "markdown",
   "metadata": {},
   "source": [
    "### Plot the trace(s)\n",
    "### Observe the trace(s)\n",
    "### What kind of cryptographic operation does it seem to be?\n",
    "### Can you recover the key ?\n",
    "### If you cannot recover the key may the traces need to be processed before running again the attack?\n",
    "### Check the key you have recovered is the right one\n",
    "\n",
    "### Conclude\n"
   ]
  },
  {
   "cell_type": "markdown",
   "metadata": {},
   "source": [
    "------------\n",
    "# PARTIE 3 DE L'EXAMEN / PART 3 OF EXAM"
   ]
  },
  {
   "cell_type": "code",
   "execution_count": 9,
   "metadata": {},
   "outputs": [
    {
     "name": "stdout",
     "output_type": "stream",
     "text": [
      "Trace Header Set:\n",
      "Name.............: ETS Format THS\n",
      "Reader...........: ETS format reader of file ../SideSCA-Traces-Public/traces_examen_part_3.ets with 100 traces.\n",
      "ciphertext.......: uint8\n",
      "plaintext........: uint8\n",
      "\n"
     ]
    }
   ],
   "source": [
    "ths = estraces.read_ths_from_ets_file(\"../SideSCA-Traces-Public/traces_examen_part_3.ets\") \n",
    "print(ths)"
   ]
  },
  {
   "cell_type": "code",
   "execution_count": 10,
   "metadata": {},
   "outputs": [
    {
     "data": {
      "text/plain": [
       "['ciphertext', 'plaintext']"
      ]
     },
     "execution_count": 10,
     "metadata": {},
     "output_type": "execute_result"
    }
   ],
   "source": [
    "ths.metadata_tags"
   ]
  },
  {
   "cell_type": "markdown",
   "metadata": {},
   "source": [
    "`SBOX = _np.array([\n",
    "  47, 165,  90,  55, 208,  72,  78, 214, 181, 6, 62, 240, 176,\n",
    "  9, 223,   5, 243,  74,  22,  61, 111,  83, 231,   1,  96,  65,\n",
    "  191, 143,  31, 108, 213, 189, 198, 234, 215, 183,  50, 140, 173,\n",
    "  204, 118, 197, 184, 144,  51, 112, 201, 178, 128, 195,  58, 167,\n",
    "  224,  49, 188,   7, 192, 174, 163,  86, 159,  45, 219, 221,  15,\n",
    "  141,  36, 255,  34, 119, 239,  70,  75, 169, 110, 109, 114,  13,\n",
    "  138,  11, 115, 194, 162,  88, 186, 107, 244,  80,  29, 225,  64,\n",
    "  43, 131,  52, 228, 135, 171, 132, 105, 166, 230, 148, 146, 161,\n",
    "  216,  46, 200, 123, 245, 242, 238, 229, 193,  63, 182, 145, 246,\n",
    "  101, 209, 199,  67, 103,  91, 152, 196, 156, 220,   2, 177,  57,\n",
    "  203, 104,  87, 126,  10,  66, 248, 137,  39,  97,  33,  71, 139,\n",
    "  211, 133, 122, 233,  92, 157,  73,  85, 124, 153, 218, 127,  20,\n",
    "  79,  41, 120, 235, 206,  60, 202,  98,  24, 207, 125, 106, 190,\n",
    "  37, 160,   0, 226,   4,  21, 158,  38,   3,  59, 205,  77, 251,\n",
    "  82, 179,  89, 252,  68,  93, 175,  44, 150, 172,  18,  28, 180,\n",
    "  48, 164,  40, 168, 117, 170, 129,  23, 232, 155,  53, 121, 247,\n",
    "  14, 185, 142,  25, 147, 102, 116, 134,  42, 136,  35,  30, 236,\n",
    "  254,  81, 222,  54,  32,  69, 212, 187, 217,  99, 249, 151,  95,\n",
    "  253, 154,  26, 100, 227,  17,  94,  76,  16,  12, 130,  19,  27,\n",
    "  250,   8,  84, 241, 149, 210, 237,  56, 113], dtype=_np.uint8)`\n"
   ]
  },
  {
   "cell_type": "markdown",
   "metadata": {},
   "source": [
    "### Afin d'utiliser un algorithme secret un groupe d'individus a décidé d'utiliser l'AES mais en remplacant la SBOX classique par la SBOX ci dessous qui a été obtenue par reverser engineering.\n",
    "\n",
    "### We also obtained the side-channel traces of this dummy SBOX operation in the first round the execution of this algorithm: traces_examen_part_3.ets"
   ]
  },
  {
   "cell_type": "markdown",
   "metadata": {},
   "source": [
    "### Plot the trace(s)\n",
    "### Observe the trace(s)\n",
    "### Implement your own selection function using this SBOX and run CPA\n",
    "### Can you recover the key ?\n",
    "### Plot the attack result, if you observe Peaks with much higher contrast than the others you might have recover the key, what is the key value you recovered?\n",
    "\n",
    "## OPTIONEL: \n",
    "### using an AES implementation (Python or C) that you can get from internet replace the SBOX with the one reversed and verify the computation is correct with the key you recovered and couple (plain, cipher) from the ths (ets file)\n",
    "\n",
    "### Conclude\n"
   ]
  },
  {
   "cell_type": "code",
   "execution_count": null,
   "metadata": {},
   "outputs": [],
   "source": []
  }
 ],
 "metadata": {
  "kernelspec": {
   "display_name": "Python 3",
   "language": "python",
   "name": "python3"
  },
  "language_info": {
   "codemirror_mode": {
    "name": "ipython",
    "version": 3
   },
   "file_extension": ".py",
   "mimetype": "text/x-python",
   "name": "python",
   "nbconvert_exporter": "python",
   "pygments_lexer": "ipython3",
   "version": "3.7.9"
  }
 },
 "nbformat": 4,
 "nbformat_minor": 4
}
