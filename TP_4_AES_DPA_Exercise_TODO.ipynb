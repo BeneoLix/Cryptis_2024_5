{
 "cells": [
  {
   "cell_type": "markdown",
   "metadata": {},
   "source": [
    "# AES Differential Side-channel Analysis\n",
    "\n",
    "#### Coding your own selection function and distinguishers \n",
    "\n",
    "<img src='images/DoIt.png' style='width: 100px'>\n",
    "\n",
    "# DO IT YOURSELF"
   ]
  },
  {
   "cell_type": "markdown",
   "metadata": {},
   "source": [
    "#### Imports"
   ]
  },
  {
   "cell_type": "code",
   "execution_count": 13,
   "metadata": {},
   "outputs": [],
   "source": [
    "import numpy as np\n",
    "import matplotlib.pyplot as plt\n",
    "    \n",
    "plt.rcParams[\"figure.figsize\"] = [20, 5]"
   ]
  },
  {
   "cell_type": "markdown",
   "metadata": {},
   "source": [
    "---\n",
    "<img src='images/DoIt.png' style='width: 100px'>\n",
    "\n",
    "## Import the traces needed for the analysis"
   ]
  },
  {
   "cell_type": "markdown",
   "metadata": {},
   "source": [
    "<img src='images/DoIt.png' style='width: 100px'>\n",
    "\n",
    "#### Load the trace 'AES_traces_set_1st_round.ets'\n",
    "from SideSCA-Traces-Public: git clone https://github.com/BeneoLix/SideSCA-Traces-Public.git"
   ]
  },
  {
   "cell_type": "code",
   "execution_count": 14,
   "metadata": {},
   "outputs": [],
   "source": [
    "import estraces"
   ]
  },
  {
   "cell_type": "code",
   "execution_count": 15,
   "metadata": {},
   "outputs": [],
   "source": [
    "ths = estraces.read_ths_from_ets_file(\"../SideSCA-Traces-Public/AES_traces_set_1st_round.ets\") "
   ]
  },
  {
   "cell_type": "markdown",
   "metadata": {},
   "source": [
    "---\n",
    "<img src='images/DoIt.png' style='width: 100px'>\n",
    "\n",
    "#### Print the ths information, the ths len\n"
   ]
  },
  {
   "cell_type": "code",
   "execution_count": 16,
   "metadata": {},
   "outputs": [
    {
     "name": "stdout",
     "output_type": "stream",
     "text": [
      "Trace Header Set:\n",
      "Name.............: ETS Format THS\n",
      "Reader...........: ETS format reader of file ../SideSCA-Traces-Public/AES_traces_set_1st_round.ets with 2000 traces.\n",
      "ciphertext.......: uint8\n",
      "key..............: uint8\n",
      "plaintext........: uint8\n",
      "\n"
     ]
    }
   ],
   "source": [
    "print(ths)"
   ]
  },
  {
   "cell_type": "code",
   "execution_count": 17,
   "metadata": {},
   "outputs": [],
   "source": [
    "# collect traces, plaintext, key and ciphertext"
   ]
  },
  {
   "cell_type": "code",
   "execution_count": 18,
   "metadata": {},
   "outputs": [
    {
     "name": "stdout",
     "output_type": "stream",
     "text": [
      "<class 'numpy.ndarray'>\n",
      "[[ 22 171 243 ... 133 132 203]\n",
      " [ 79 193  72 ... 198 239  40]\n",
      " [ 86 136  48 ...  28  99 187]\n",
      " ...\n",
      " [156 170 193 ... 115 219 222]\n",
      " [127  52 124 ... 128 225 178]\n",
      " [132  30  98 ... 241 126  64]]\n"
     ]
    },
    {
     "data": {
      "text/plain": [
       "(2000, 16)"
      ]
     },
     "execution_count": 18,
     "metadata": {},
     "output_type": "execute_result"
    }
   ],
   "source": [
    "plaintext_np_array = ths.plaintext\n",
    "print(type(plaintext_np_array))\n",
    "print(plaintext_np_array)\n",
    "plaintext_np_array.shape"
   ]
  },
  {
   "cell_type": "code",
   "execution_count": 19,
   "metadata": {},
   "outputs": [
    {
     "data": {
      "text/plain": [
       "array([[ 22, 171, 243, ..., 133, 132, 203],\n",
       "       [ 79, 193,  72, ..., 198, 239,  40],\n",
       "       [ 86, 136,  48, ...,  28,  99, 187],\n",
       "       ...,\n",
       "       [156, 170, 193, ..., 115, 219, 222],\n",
       "       [127,  52, 124, ..., 128, 225, 178],\n",
       "       [132,  30,  98, ..., 241, 126,  64]], dtype=uint8)"
      ]
     },
     "execution_count": 19,
     "metadata": {},
     "output_type": "execute_result"
    }
   ],
   "source": [
    "# collect traces, plaintext, key and ciphertext\n",
    "plaintext_np_array"
   ]
  },
  {
   "cell_type": "code",
   "execution_count": 20,
   "metadata": {},
   "outputs": [
    {
     "name": "stdout",
     "output_type": "stream",
     "text": [
      "<class 'numpy.ndarray'>\n",
      "[[ 22 171 243 ... 133 132 203]\n",
      " [ 79 193  72 ... 198 239  40]\n",
      " [ 86 136  48 ...  28  99 187]\n",
      " ...\n",
      " [156 170 193 ... 115 219 222]\n",
      " [127  52 124 ... 128 225 178]\n",
      " [132  30  98 ... 241 126  64]]\n"
     ]
    },
    {
     "data": {
      "text/plain": [
       "(2000, 16)"
      ]
     },
     "execution_count": 20,
     "metadata": {},
     "output_type": "execute_result"
    }
   ],
   "source": [
    "plaintext_np_array = ths.plaintext\n",
    "print(type(plaintext_np_array))\n",
    "print(plaintext_np_array)\n",
    "plaintext_np_array.shape"
   ]
  },
  {
   "cell_type": "code",
   "execution_count": 21,
   "metadata": {},
   "outputs": [
    {
     "name": "stdout",
     "output_type": "stream",
     "text": [
      "<class 'numpy.ndarray'>\n",
      "[[ 61  49 209 ... 238 160 148]\n",
      " [ 46 249  63 ... 133 129  78]\n",
      " [  0  44 100 ... 205 105 195]\n",
      " ...\n",
      " [  6  30  70 ...  57  68   5]\n",
      " [ 81 121 221 ... 207  24 226]\n",
      " [255  65 172 ... 201 186  17]]\n"
     ]
    },
    {
     "data": {
      "text/plain": [
       "(2000, 16)"
      ]
     },
     "execution_count": 21,
     "metadata": {},
     "output_type": "execute_result"
    }
   ],
   "source": [
    "ciphertext_np_array = ths.ciphertext\n",
    "print(type(ciphertext_np_array))\n",
    "print(ciphertext_np_array)\n",
    "ciphertext_np_array.shape"
   ]
  },
  {
   "cell_type": "code",
   "execution_count": 22,
   "metadata": {},
   "outputs": [
    {
     "name": "stdout",
     "output_type": "stream",
     "text": [
      "<class 'numpy.ndarray'>\n",
      "[[143   3 231 ...  99  78  15]\n",
      " [143   3 231 ...  99  78  15]\n",
      " [143   3 231 ...  99  78  15]\n",
      " ...\n",
      " [143   3 231 ...  99  78  15]\n",
      " [143   3 231 ...  99  78  15]\n",
      " [143   3 231 ...  99  78  15]]\n"
     ]
    },
    {
     "data": {
      "text/plain": [
       "(2000, 16)"
      ]
     },
     "execution_count": 22,
     "metadata": {},
     "output_type": "execute_result"
    }
   ],
   "source": [
    "key_np_array = ths.key\n",
    "print(type(key_np_array))\n",
    "print(key_np_array)\n",
    "key_np_array.shape"
   ]
  },
  {
   "cell_type": "code",
   "execution_count": 23,
   "metadata": {},
   "outputs": [
    {
     "name": "stdout",
     "output_type": "stream",
     "text": [
      "<class 'estraces.traces.samples.Samples'>\n",
      "array([[-20,   8,  30, ...,  14, -40, -29],\n",
      "       [-20,   8,  30, ...,  11, -40, -29],\n",
      "       [-20,   8,  30, ...,  14, -40, -29],\n",
      "       ...,\n",
      "       [-20,   8,  30, ...,  14, -40, -29],\n",
      "       [-20,   8,  30, ...,  15, -40, -29],\n",
      "       [-20,   8,  30, ...,  15, -40, -29]], dtype=int8)\n"
     ]
    },
    {
     "data": {
      "text/plain": [
       "(2000, 3000)"
      ]
     },
     "execution_count": 23,
     "metadata": {},
     "output_type": "execute_result"
    }
   ],
   "source": [
    "traces_np_array = ths.samples\n",
    "print(type(traces_np_array))\n",
    "print(traces_np_array)\n",
    "traces_np_array.shape"
   ]
  },
  {
   "cell_type": "markdown",
   "metadata": {},
   "source": [
    "---\n",
    "<img src='images/DoIt.png' style='width: 100px'>\n",
    "\n",
    "## Plot and Observe  the traces\n"
   ]
  },
  {
   "cell_type": "code",
   "execution_count": 24,
   "metadata": {},
   "outputs": [
    {
     "data": {
      "text/plain": [
       "Ellipsis"
      ]
     },
     "execution_count": 24,
     "metadata": {},
     "output_type": "execute_result"
    }
   ],
   "source": [
    "..."
   ]
  },
  {
   "cell_type": "markdown",
   "metadata": {},
   "source": [
    "----------\n",
    "<img src='images/DoIt.png' style='width: 100px'>\n",
    "\n",
    "## Do by your own a side-channel Differential Analysis (DPA)\n",
    "\n",
    "<img src=\"./images/openTheDoor.jpeg\" width=\"200px\">"
   ]
  },
  {
   "cell_type": "markdown",
   "metadata": {},
   "source": [
    "### Targeting the intermediate computations in the AES\n",
    "\n",
    "This attack technique needs to perform guesses on a part of the key (divide-and-conquer approach) and for each guess, knowing the plaintext (resp. the ciphertext) we can compute the intermediate data that is manipulated by the targeted device during the computation. \n",
    "\n",
    "Of course only the right guess will lead the values really manipulated by the device.\n",
    "\n",
    "In that case the DPA attack will succeed and gives the information the guess leading to highest DPA peak matches with the secret key.\n",
    "\n",
    "<img src=\"./images/AESscheme.png\" width=\"300px\">"
   ]
  },
  {
   "cell_type": "markdown",
   "metadata": {},
   "source": [
    "-------------\n",
    "<img src='images/DoIt.png' style='width: 100px'>\n",
    "\n",
    "### So develop your own DPA selection function "
   ]
  },
  {
   "cell_type": "markdown",
   "metadata": {},
   "source": [
    "### Perform the Attack on the first round\n",
    "\n",
    "Knowing the plaintexts (AES inputs) we know the value given as input to the first AES (SPN) round.\n",
    "\n",
    "Performing guesses on each key byte we can guess all the intermediate values of the first round and and use these values with DPA to exploit the related side-channel trace collected by performing the attack.\n",
    "\n",
    "It can be the output of the key addition, the output of the Subbytes operations."
   ]
  },
  {
   "cell_type": "markdown",
   "metadata": {},
   "source": [
    "---\n",
    "Code your own selection function: output of SubBytes at first round"
   ]
  },
  {
   "cell_type": "markdown",
   "metadata": {},
   "source": [
    "-------------\n",
    "<img src='images/DoIt.png' style='width: 100px'>\n",
    "\n",
    "### Develop your own DPA selection function "
   ]
  },
  {
   "cell_type": "markdown",
   "metadata": {},
   "source": [
    "---\n",
    "Code your own selection function: output of SubBytes at first round"
   ]
  },
  {
   "cell_type": "code",
   "execution_count": 8,
   "metadata": {},
   "outputs": [],
   "source": [
    "import numpy as _np\n",
    "\n",
    "SBOX = _np.array([\n",
    "    0x63, 0x7C, 0x77, 0x7B, 0xF2, 0x6B, 0x6F, 0xC5, 0x30, 0x01, 0x67, 0x2B, 0xFE, 0xD7, 0xAB, 0x76,\n",
    "    0xCA, 0x82, 0xC9, 0x7D, 0xFA, 0x59, 0x47, 0xF0, 0xAD, 0xD4, 0xA2, 0xAF, 0x9C, 0xA4, 0x72, 0xC0,\n",
    "    0xB7, 0xFD, 0x93, 0x26, 0x36, 0x3F, 0xF7, 0xCC, 0x34, 0xA5, 0xE5, 0xF1, 0x71, 0xD8, 0x31, 0x15,\n",
    "    0x04, 0xC7, 0x23, 0xC3, 0x18, 0x96, 0x05, 0x9A, 0x07, 0x12, 0x80, 0xE2, 0xEB, 0x27, 0xB2, 0x75,\n",
    "    0x09, 0x83, 0x2C, 0x1A, 0x1B, 0x6E, 0x5A, 0xA0, 0x52, 0x3B, 0xD6, 0xB3, 0x29, 0xE3, 0x2F, 0x84,\n",
    "    0x53, 0xD1, 0x00, 0xED, 0x20, 0xFC, 0xB1, 0x5B, 0x6A, 0xCB, 0xBE, 0x39, 0x4A, 0x4C, 0x58, 0xCF,\n",
    "    0xD0, 0xEF, 0xAA, 0xFB, 0x43, 0x4D, 0x33, 0x85, 0x45, 0xF9, 0x02, 0x7F, 0x50, 0x3C, 0x9F, 0xA8,\n",
    "    0x51, 0xA3, 0x40, 0x8F, 0x92, 0x9D, 0x38, 0xF5, 0xBC, 0xB6, 0xDA, 0x21, 0x10, 0xFF, 0xF3, 0xD2,\n",
    "    0xCD, 0x0C, 0x13, 0xEC, 0x5F, 0x97, 0x44, 0x17, 0xC4, 0xA7, 0x7E, 0x3D, 0x64, 0x5D, 0x19, 0x73,\n",
    "    0x60, 0x81, 0x4F, 0xDC, 0x22, 0x2A, 0x90, 0x88, 0x46, 0xEE, 0xB8, 0x14, 0xDE, 0x5E, 0x0B, 0xDB,\n",
    "    0xE0, 0x32, 0x3A, 0x0A, 0x49, 0x06, 0x24, 0x5C, 0xC2, 0xD3, 0xAC, 0x62, 0x91, 0x95, 0xE4, 0x79,\n",
    "    0xE7, 0xC8, 0x37, 0x6D, 0x8D, 0xD5, 0x4E, 0xA9, 0x6C, 0x56, 0xF4, 0xEA, 0x65, 0x7A, 0xAE, 0x08,\n",
    "    0xBA, 0x78, 0x25, 0x2E, 0x1C, 0xA6, 0xB4, 0xC6, 0xE8, 0xDD, 0x74, 0x1F, 0x4B, 0xBD, 0x8B, 0x8A,\n",
    "    0x70, 0x3E, 0xB5, 0x66, 0x48, 0x03, 0xF6, 0x0E, 0x61, 0x35, 0x57, 0xB9, 0x86, 0xC1, 0x1D, 0x9E,\n",
    "    0xE1, 0xF8, 0x98, 0x11, 0x69, 0xD9, 0x8E, 0x94, 0x9B, 0x1E, 0x87, 0xE9, 0xCE, 0x55, 0x28, 0xDF,\n",
    "    0x8C, 0xA1, 0x89, 0x0D, 0xBF, 0xE6, 0x42, 0x68, 0x41, 0x99, 0x2D, 0x0F, 0xB0, 0x54, 0xBB, 0x16],\n",
    "    dtype=_np.uint8)"
   ]
  },
  {
   "cell_type": "code",
   "execution_count": 9,
   "metadata": {},
   "outputs": [],
   "source": [
    "def my_select_funct_Sbox_out(data, guesses):\n",
    "    ...\n",
    "    ...\n",
    "    \n",
    "    return ..."
   ]
  },
  {
   "cell_type": "markdown",
   "metadata": {},
   "source": [
    "--------\n",
    "### Test it"
   ]
  },
  {
   "cell_type": "code",
   "execution_count": 10,
   "metadata": {},
   "outputs": [],
   "source": [
    "S_matrix = my_select_funct_Sbox_out(ths.plaintext, range(256))"
   ]
  },
  {
   "cell_type": "code",
   "execution_count": 11,
   "metadata": {},
   "outputs": [
    {
     "name": "stdout",
     "output_type": "stream",
     "text": [
      "(2000, 256, 16)\n"
     ]
    }
   ],
   "source": [
    "print(S_matrix.shape)"
   ]
  },
  {
   "cell_type": "markdown",
   "metadata": {},
   "source": [
    "<img src='images/DoIt.png' style='width: 100px'>\n",
    "\n",
    "### Use this selection function with scared distinguisher"
   ]
  },
  {
   "cell_type": "code",
   "execution_count": 12,
   "metadata": {},
   "outputs": [],
   "source": [
    "import scared"
   ]
  },
  {
   "cell_type": "markdown",
   "metadata": {},
   "source": [
    "---\n",
    "Define it as the selection function to use in attack object"
   ]
  },
  {
   "cell_type": "code",
   "execution_count": 13,
   "metadata": {},
   "outputs": [],
   "source": [
    "@scared.attack_selection_function\n",
    "def sel(plaintext, guesses):\n",
    "    return my_select_funct_Sbox_out(plaintext, guesses)"
   ]
  },
  {
   "cell_type": "markdown",
   "metadata": {},
   "source": [
    "---\n",
    "<img src='images/DoIt.png' style='width: 100px'>\n",
    "\n",
    "Set the leakage model, the distinguisher and discrimant"
   ]
  },
  {
   "cell_type": "code",
   "execution_count": 14,
   "metadata": {},
   "outputs": [],
   "source": [
    "M = scared.Monobit(0)\n",
    "\n",
    "d = scared.maxabs"
   ]
  },
  {
   "cell_type": "markdown",
   "metadata": {},
   "source": [
    "---\n",
    "🅰️ Set the attack"
   ]
  },
  {
   "cell_type": "code",
   "execution_count": 15,
   "metadata": {},
   "outputs": [],
   "source": [
    "container = scared.Container(ths)"
   ]
  },
  {
   "cell_type": "code",
   "execution_count": 16,
   "metadata": {},
   "outputs": [],
   "source": [
    "attack_dpa = scared.DPAAttack(\n",
    "                selection_function=sel, \n",
    "                model=M, \n",
    "                discriminant=d)"
   ]
  },
  {
   "cell_type": "markdown",
   "metadata": {},
   "source": [
    "---\n",
    "<img src='images/DoIt.png' style='width: 100px'>\n",
    "\n",
    "Run it"
   ]
  },
  {
   "cell_type": "code",
   "execution_count": 17,
   "metadata": {},
   "outputs": [],
   "source": [
    "attack_dpa.run(container)"
   ]
  },
  {
   "cell_type": "markdown",
   "metadata": {},
   "source": [
    "Now what is the key recovered? \n",
    "<br>Compare with the correct one."
   ]
  },
  {
   "cell_type": "code",
   "execution_count": 17,
   "metadata": {},
   "outputs": [],
   "source": [
    "found_key = ..."
   ]
  },
  {
   "cell_type": "code",
   "execution_count": null,
   "metadata": {},
   "outputs": [],
   "source": [
    "vhex = np.vectorize(hex)\n",
    "print(\"the key found is:   \", vhex(found_key))\n",
    "print(\"the correct key is: \", vhex(ths[0].key))"
   ]
  },
  {
   "cell_type": "markdown",
   "metadata": {},
   "source": [
    "---\n",
    "<img src='images/DoIt.png' style='width: 100px'>\n",
    "\n",
    "### Print and plot the result"
   ]
  },
  {
   "cell_type": "code",
   "execution_count": 18,
   "metadata": {},
   "outputs": [
    {
     "data": {
      "text/plain": [
       "(256, 16, 3000)"
      ]
     },
     "execution_count": 18,
     "metadata": {},
     "output_type": "execute_result"
    }
   ],
   "source": [
    "attack_dpa.results.shape"
   ]
  },
  {
   "cell_type": "markdown",
   "metadata": {},
   "source": [
    "### Plot the result\n"
   ]
  },
  {
   "cell_type": "code",
   "execution_count": 21,
   "metadata": {},
   "outputs": [
    {
     "data": {
      "text/plain": [
       "143"
      ]
     },
     "execution_count": 21,
     "metadata": {},
     "output_type": "execute_result"
    }
   ],
   "source": [
    "ths[0].key[key_byte_nb]"
   ]
  },
  {
   "cell_type": "code",
   "execution_count": null,
   "metadata": {},
   "outputs": [],
   "source": [
    "plt.rcParams[\"figure.figsize\"] = [20, 3]\n",
    "for key_byte_nb in range(16):\n",
    "    ...\n",
    "    ...\n",
    "    plt.title('DPA result for byte '+str(key_byte_nb))\n",
    "    plt.show()"
   ]
  },
  {
   "cell_type": "markdown",
   "metadata": {},
   "source": [
    "-------------\n",
    "<img src='images/DoIt.png' style='width: 100px'>\n",
    "\n",
    "### Doing your own distinguisher for DPA (and later CPA)"
   ]
  },
  {
   "cell_type": "markdown",
   "metadata": {},
   "source": [
    "---\n",
    "🅰️ Do your own Difference of Mean on traces for a given guess and selection function"
   ]
  },
  {
   "cell_type": "code",
   "execution_count": null,
   "metadata": {},
   "outputs": [],
   "source": []
  },
  {
   "cell_type": "markdown",
   "metadata": {},
   "source": [
    "---\n",
    "🅰️ Apply the DoM on the correct key byte value in position 0"
   ]
  },
  {
   "cell_type": "code",
   "execution_count": null,
   "metadata": {},
   "outputs": [],
   "source": []
  },
  {
   "cell_type": "code",
   "execution_count": null,
   "metadata": {},
   "outputs": [],
   "source": []
  },
  {
   "cell_type": "markdown",
   "metadata": {},
   "source": [
    "---\n",
    "🅰️ Apply the DoM on an incorrect key byte value in position 0"
   ]
  },
  {
   "cell_type": "code",
   "execution_count": null,
   "metadata": {},
   "outputs": [],
   "source": []
  },
  {
   "cell_type": "code",
   "execution_count": null,
   "metadata": {},
   "outputs": [],
   "source": []
  },
  {
   "cell_type": "markdown",
   "metadata": {},
   "source": [
    "---\n",
    "🅰️ Do your own DPA for several guesses"
   ]
  },
  {
   "cell_type": "code",
   "execution_count": 25,
   "metadata": {},
   "outputs": [],
   "source": [
    "from tqdm import tnrange"
   ]
  },
  {
   "cell_type": "code",
   "execution_count": null,
   "metadata": {},
   "outputs": [],
   "source": [
    "def compute_DPA(ths, selection_function_matrix, key_byte, guesses_range):\n",
    "\n",
    "    \n",
    "    \n",
    "    \n",
    "    \n",
    "    \n",
    "    "
   ]
  },
  {
   "cell_type": "code",
   "execution_count": null,
   "metadata": {},
   "outputs": [],
   "source": []
  },
  {
   "cell_type": "code",
   "execution_count": null,
   "metadata": {},
   "outputs": [],
   "source": []
  },
  {
   "cell_type": "markdown",
   "metadata": {},
   "source": [
    "---\n",
    "🅰️ Test it"
   ]
  },
  {
   "cell_type": "code",
   "execution_count": null,
   "metadata": {},
   "outputs": [],
   "source": []
  },
  {
   "cell_type": "code",
   "execution_count": null,
   "metadata": {},
   "outputs": [],
   "source": []
  },
  {
   "cell_type": "code",
   "execution_count": null,
   "metadata": {},
   "outputs": [],
   "source": []
  },
  {
   "cell_type": "markdown",
   "metadata": {},
   "source": [
    "---\n",
    "🅰️ Plot the resulting traces"
   ]
  },
  {
   "cell_type": "code",
   "execution_count": null,
   "metadata": {},
   "outputs": [],
   "source": []
  },
  {
   "cell_type": "code",
   "execution_count": null,
   "metadata": {},
   "outputs": [],
   "source": []
  },
  {
   "cell_type": "code",
   "execution_count": null,
   "metadata": {},
   "outputs": [],
   "source": []
  },
  {
   "cell_type": "code",
   "execution_count": null,
   "metadata": {},
   "outputs": [],
   "source": []
  }
 ],
 "metadata": {
  "kernelspec": {
   "display_name": "Python 3",
   "language": "python",
   "name": "python3"
  },
  "language_info": {
   "codemirror_mode": {
    "name": "ipython",
    "version": 3
   },
   "file_extension": ".py",
   "mimetype": "text/x-python",
   "name": "python",
   "nbconvert_exporter": "python",
   "pygments_lexer": "ipython3",
   "version": "3.7.9"
  }
 },
 "nbformat": 4,
 "nbformat_minor": 4
}
